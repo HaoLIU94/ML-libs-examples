{
 "cells": [
  {
   "cell_type": "code",
   "execution_count": 1,
   "metadata": {
    "collapsed": true
   },
   "outputs": [],
   "source": [
    "import numpy as np\n",
    "a = np.array([1,2,3])\n",
    "b = np.array([(1+5j,2j,3j),(4j,5j,6j)])\n",
    "c = np.array([[(1.5,2.3),(4,5,6)],[(3,2,1),(4,5,6)]])"
   ]
  },
  {
   "cell_type": "code",
   "execution_count": 2,
   "metadata": {},
   "outputs": [
    {
     "data": {
      "text/plain": [
       "array([[[0, 0, 0, 0, 0],\n",
       "        [1, 1, 1, 1, 1],\n",
       "        [2, 2, 2, 2, 2],\n",
       "        [3, 3, 3, 3, 3],\n",
       "        [4, 4, 4, 4, 4]],\n",
       "\n",
       "       [[0, 1, 2, 3, 4],\n",
       "        [0, 1, 2, 3, 4],\n",
       "        [0, 1, 2, 3, 4],\n",
       "        [0, 1, 2, 3, 4],\n",
       "        [0, 1, 2, 3, 4]]])"
      ]
     },
     "execution_count": 2,
     "metadata": {},
     "output_type": "execute_result"
    }
   ],
   "source": [
    "np.mgrid[0:5,0:5]"
   ]
  },
  {
   "cell_type": "code",
   "execution_count": 3,
   "metadata": {},
   "outputs": [
    {
     "data": {
      "text/plain": [
       "[array([[0],\n",
       "        [1]]), array([[0, 1]])]"
      ]
     },
     "execution_count": 3,
     "metadata": {},
     "output_type": "execute_result"
    }
   ],
   "source": [
    "np.ogrid[0:2,0:2]"
   ]
  },
  {
   "cell_type": "code",
   "execution_count": 4,
   "metadata": {},
   "outputs": [
    {
     "data": {
      "text/plain": [
       "array([ 3.        ,  0.        ,  0.        ,  0.        ,  0.        ,\n",
       "        0.        , -1.        , -0.77777778, -0.55555556, -0.33333333,\n",
       "       -0.11111111,  0.11111111,  0.33333333,  0.55555556,  0.77777778,  1.        ])"
      ]
     },
     "execution_count": 4,
     "metadata": {},
     "output_type": "execute_result"
    }
   ],
   "source": [
    "np.r_[3,[0]*5,-1:1:10j]"
   ]
  },
  {
   "cell_type": "code",
   "execution_count": 5,
   "metadata": {
    "scrolled": true
   },
   "outputs": [
    {
     "data": {
      "text/plain": [
       "array([[(1+5j), 2j, 3j, (1.5, 2.3), (4, 5, 6)],\n",
       "       [4j, 5j, 6j, (3, 2, 1), (4, 5, 6)]], dtype=object)"
      ]
     },
     "execution_count": 5,
     "metadata": {},
     "output_type": "execute_result"
    }
   ],
   "source": [
    "np.c_[b,c]"
   ]
  },
  {
   "cell_type": "code",
   "execution_count": 6,
   "metadata": {},
   "outputs": [
    {
     "data": {
      "text/plain": [
       "array([[ 1.+5.j,  0.+4.j],\n",
       "       [ 0.+2.j,  0.+5.j],\n",
       "       [ 0.+3.j,  0.+6.j]])"
      ]
     },
     "execution_count": 6,
     "metadata": {},
     "output_type": "execute_result"
    }
   ],
   "source": [
    "np.transpose(b)"
   ]
  },
  {
   "cell_type": "code",
   "execution_count": 7,
   "metadata": {},
   "outputs": [
    {
     "data": {
      "text/plain": [
       "array([ 1.+5.j,  0.+2.j,  0.+3.j,  0.+4.j,  0.+5.j,  0.+6.j])"
      ]
     },
     "execution_count": 7,
     "metadata": {},
     "output_type": "execute_result"
    }
   ],
   "source": [
    "b.flatten()"
   ]
  },
  {
   "cell_type": "code",
   "execution_count": 8,
   "metadata": {},
   "outputs": [
    {
     "data": {
      "text/plain": [
       "array([[(1+5j), 2j, 3j, (1.5, 2.3), (4, 5, 6)],\n",
       "       [4j, 5j, 6j, (3, 2, 1), (4, 5, 6)]], dtype=object)"
      ]
     },
     "execution_count": 8,
     "metadata": {},
     "output_type": "execute_result"
    }
   ],
   "source": [
    "np.hstack((b,c))"
   ]
  },
  {
   "cell_type": "code",
   "execution_count": 9,
   "metadata": {},
   "outputs": [
    {
     "data": {
      "text/plain": [
       "array([[ 1.+0.j,  2.+0.j,  3.+0.j],\n",
       "       [ 1.+5.j,  0.+2.j,  0.+3.j],\n",
       "       [ 0.+4.j,  0.+5.j,  0.+6.j]])"
      ]
     },
     "execution_count": 9,
     "metadata": {},
     "output_type": "execute_result"
    }
   ],
   "source": [
    "np.vstack((a,b))"
   ]
  },
  {
   "cell_type": "code",
   "execution_count": 11,
   "metadata": {},
   "outputs": [
    {
     "data": {
      "text/plain": [
       "[array([[(1.5, 2.3)],\n",
       "        [(3, 2, 1)]], dtype=object), array([[(4, 5, 6)],\n",
       "        [(4, 5, 6)]], dtype=object)]"
      ]
     },
     "execution_count": 11,
     "metadata": {},
     "output_type": "execute_result"
    }
   ],
   "source": [
    "np.hsplit(c,2)"
   ]
  },
  {
   "cell_type": "code",
   "execution_count": 14,
   "metadata": {},
   "outputs": [
    {
     "data": {
      "text/plain": [
       "[array([[ 1.+5.j,  0.+2.j,  0.+3.j]]), array([[ 0.+4.j,  0.+5.j,  0.+6.j]])]"
      ]
     },
     "execution_count": 14,
     "metadata": {},
     "output_type": "execute_result"
    }
   ],
   "source": [
    "np.vsplit(b,2)"
   ]
  },
  {
   "cell_type": "code",
   "execution_count": 17,
   "metadata": {},
   "outputs": [
    {
     "data": {
      "text/plain": [
       "<numpy.lib.function_base.vectorize at 0x7f1385660c50>"
      ]
     },
     "execution_count": 17,
     "metadata": {},
     "output_type": "execute_result"
    }
   ],
   "source": [
    "def myfunc(a):\n",
    "    if a <0:\n",
    "        return a*2\n",
    "    else:\n",
    "        return a/2\n",
    "np.vectorize(myfunc)  #vectorize functions"
   ]
  },
  {
   "cell_type": "code",
   "execution_count": 22,
   "metadata": {},
   "outputs": [
    {
     "data": {
      "text/plain": [
       "3.141592653589793"
      ]
     },
     "execution_count": 22,
     "metadata": {},
     "output_type": "execute_result"
    }
   ],
   "source": [
    "np.real(b)\n",
    "np.imag(b)\n",
    "np.real_if_close(c,tol=1000)\n",
    "np.cast['f'](np.pi)"
   ]
  },
  {
   "cell_type": "code",
   "execution_count": 23,
   "metadata": {},
   "outputs": [
    {
     "data": {
      "text/plain": [
       "array([[ 78.69006753,  90.        ,  90.        ],\n",
       "       [ 90.        ,  90.        ,  90.        ]])"
      ]
     },
     "execution_count": 23,
     "metadata": {},
     "output_type": "execute_result"
    }
   ],
   "source": [
    "np.angle(b,deg=True)  # return angle of the complex argument"
   ]
  },
  {
   "cell_type": "code",
   "execution_count": 30,
   "metadata": {},
   "outputs": [
    {
     "data": {
      "text/plain": [
       "array([ 0.        ,  0.78539816,  1.57079633,  5.49778714,  6.28318531])"
      ]
     },
     "execution_count": 30,
     "metadata": {},
     "output_type": "execute_result"
    }
   ],
   "source": [
    "g = np.linspace(0,np.pi,num=5) # create an array of enenly spaced values\n",
    "g[3:] += np.pi\n",
    "#np.unwrap(g)\n",
    "g"
   ]
  },
  {
   "cell_type": "code",
   "execution_count": 33,
   "metadata": {},
   "outputs": [
    {
     "data": {
      "text/plain": [
       "array([ 0.        ,  0.78539816,  1.57079633, -0.78539816,  0.        ])"
      ]
     },
     "execution_count": 33,
     "metadata": {},
     "output_type": "execute_result"
    }
   ],
   "source": [
    "np.unwrap(g)"
   ]
  },
  {
   "cell_type": "code",
   "execution_count": 37,
   "metadata": {},
   "outputs": [
    {
     "data": {
      "text/plain": [
       "array([  1.00000000e+00,   1.00000000e+05,   1.00000000e+10])"
      ]
     },
     "execution_count": 37,
     "metadata": {},
     "output_type": "execute_result"
    }
   ],
   "source": [
    "np.logspace(0,10,3)"
   ]
  },
  {
   "cell_type": "code",
   "execution_count": 41,
   "metadata": {},
   "outputs": [
    {
     "data": {
      "text/plain": [
       "array([1, 2, 3])"
      ]
     },
     "execution_count": 41,
     "metadata": {},
     "output_type": "execute_result"
    }
   ],
   "source": [
    "np.select([c<4],[c*2])"
   ]
  },
  {
   "cell_type": "code",
   "execution_count": 49,
   "metadata": {},
   "outputs": [
    {
     "data": {
      "text/plain": [
       "2.0"
      ]
     },
     "execution_count": 49,
     "metadata": {},
     "output_type": "execute_result"
    }
   ],
   "source": [
    "import scipy\n",
    "from scipy import misc\n",
    "misc.factorial(a)\n",
    "misc.comb(10,3,exact=True)\n",
    "misc.central_diff_weights(3)\n",
    "misc.derivative(myfunc,1.0)"
   ]
  },
  {
   "cell_type": "code",
   "execution_count": 77,
   "metadata": {
    "collapsed": true
   },
   "outputs": [],
   "source": [
    "from scipy import linalg, sparse"
   ]
  },
  {
   "cell_type": "code",
   "execution_count": 51,
   "metadata": {
    "collapsed": true
   },
   "outputs": [],
   "source": [
    "A = np.matrix(np.random.random((2,2)))\n",
    "B = np.asmatrix(b)\n",
    "C = np.mat(np.random.random((10,5)))\n",
    "D = np.mat([[3,4],[5,6]])"
   ]
  },
  {
   "cell_type": "code",
   "execution_count": 53,
   "metadata": {},
   "outputs": [
    {
     "data": {
      "text/plain": [
       "array([[-3.65275466,  4.14513667],\n",
       "       [ 8.78985955, -6.38240084]])"
      ]
     },
     "execution_count": 53,
     "metadata": {},
     "output_type": "execute_result"
    }
   ],
   "source": [
    "A.I  #inverse matrice A\n",
    "linalg.inv(A)"
   ]
  },
  {
   "cell_type": "code",
   "execution_count": 57,
   "metadata": {},
   "outputs": [
    {
     "data": {
      "text/plain": [
       "matrix([[ 0.48639583,  0.66986564],\n",
       "        [ 0.31589636,  0.27837246]])"
      ]
     },
     "execution_count": 57,
     "metadata": {},
     "output_type": "execute_result"
    }
   ],
   "source": [
    "A.T # transpose\n",
    "A.H # conjugate transposition"
   ]
  },
  {
   "cell_type": "code",
   "execution_count": 58,
   "metadata": {},
   "outputs": [
    {
     "data": {
      "text/plain": [
       "0.76476829350274489"
      ]
     },
     "execution_count": 58,
     "metadata": {},
     "output_type": "execute_result"
    }
   ],
   "source": [
    "np.trace(A) # TRACE"
   ]
  },
  {
   "cell_type": "code",
   "execution_count": 60,
   "metadata": {},
   "outputs": [
    {
     "data": {
      "text/plain": [
       "0.948238104859275"
      ]
     },
     "execution_count": 60,
     "metadata": {},
     "output_type": "execute_result"
    }
   ],
   "source": [
    "linalg.norm(A)  # Frobenius norm\n",
    "linalg.norm(A,1) # L1 norm(max column sum)\n",
    "linalg.norm(A,np.inf) # L inf norm (max row sum)"
   ]
  },
  {
   "cell_type": "code",
   "execution_count": 67,
   "metadata": {},
   "outputs": [
    {
     "data": {
      "text/plain": [
       "4"
      ]
     },
     "execution_count": 67,
     "metadata": {},
     "output_type": "execute_result"
    }
   ],
   "source": [
    "np.linalg.matrix_rank(np.eye(4)) # get rank of a matrix"
   ]
  },
  {
   "cell_type": "code",
   "execution_count": 68,
   "metadata": {},
   "outputs": [
    {
     "data": {
      "text/plain": [
       "-0.07620891311733848"
      ]
     },
     "execution_count": 68,
     "metadata": {},
     "output_type": "execute_result"
    }
   ],
   "source": [
    "linalg.det(A) # Get determinant"
   ]
  },
  {
   "cell_type": "code",
   "execution_count": 69,
   "metadata": {},
   "outputs": [
    {
     "data": {
      "text/plain": [
       "array([[-3.65275466 -1.68322661j,  0.00000000+13.42017402j,\n",
       "         0.00000000+13.91255603j],\n",
       "       [ 8.78985955+18.41969437j,  0.00000000-14.33228512j,\n",
       "         0.00000000-11.92482641j]])"
      ]
     },
     "execution_count": 69,
     "metadata": {},
     "output_type": "execute_result"
    }
   ],
   "source": [
    "linalg.solve(A,b)"
   ]
  },
  {
   "cell_type": "code",
   "execution_count": 70,
   "metadata": {
    "collapsed": true
   },
   "outputs": [],
   "source": [
    "E = np.mat(a).T"
   ]
  },
  {
   "cell_type": "code",
   "execution_count": 71,
   "metadata": {},
   "outputs": [
    {
     "ename": "NameError",
     "evalue": "name 'F' is not defined",
     "output_type": "error",
     "traceback": [
      "\u001b[0;31m---------------------------------------------------------------------------\u001b[0m",
      "\u001b[0;31mNameError\u001b[0m                                 Traceback (most recent call last)",
      "\u001b[0;32m<ipython-input-71-d28968762548>\u001b[0m in \u001b[0;36m<module>\u001b[0;34m()\u001b[0m\n\u001b[0;32m----> 1\u001b[0;31m \u001b[0mlinalg\u001b[0m\u001b[0;34m.\u001b[0m\u001b[0mlstsq\u001b[0m\u001b[0;34m(\u001b[0m\u001b[0mF\u001b[0m\u001b[0;34m,\u001b[0m\u001b[0mE\u001b[0m\u001b[0;34m)\u001b[0m\u001b[0;34m\u001b[0m\u001b[0m\n\u001b[0m",
      "\u001b[0;31mNameError\u001b[0m: name 'F' is not defined"
     ]
    }
   ],
   "source": [
    "linalg.lstsq(F,E)"
   ]
  },
  {
   "cell_type": "code",
   "execution_count": 74,
   "metadata": {},
   "outputs": [
    {
     "data": {
      "text/plain": [
       "array([[-0.12073274,  0.36055489,  0.72135046,  0.17116496, -0.10505912,\n",
       "        -0.44693599, -0.00847047,  0.07294814, -0.01596972, -0.10200207],\n",
       "       [ 0.11520193, -0.61170807, -0.58926224,  0.43149816, -0.65918265,\n",
       "         0.9570581 ,  0.29488286, -0.71423993,  0.52321461,  0.16832799],\n",
       "       [-0.27488712, -0.10474646,  0.263553  ,  0.14234891, -0.44045103,\n",
       "        -0.07599096,  0.61244875,  0.18884385, -0.27270302,  0.39899811],\n",
       "       [ 0.06230506, -0.30351293,  0.04051631,  0.37849325,  0.77173309,\n",
       "         0.17362628, -0.27135171,  0.07582211, -0.123233  , -0.316579  ],\n",
       "       [ 0.29743434,  0.76112785, -0.30450848, -0.71946445,  0.50416214,\n",
       "        -0.25727764, -0.42863911,  0.46435923,  0.13954666,  0.05051108]])"
      ]
     },
     "execution_count": 74,
     "metadata": {},
     "output_type": "execute_result"
    }
   ],
   "source": [
    "linalg.pinv(C)  # get a pseudo-inverse of a matrix(least-squares solver)"
   ]
  },
  {
   "cell_type": "code",
   "execution_count": 75,
   "metadata": {},
   "outputs": [
    {
     "data": {
      "text/plain": [
       "array([[-0.12073274,  0.36055489,  0.72135046,  0.17116496, -0.10505912,\n",
       "        -0.44693599, -0.00847047,  0.07294814, -0.01596972, -0.10200207],\n",
       "       [ 0.11520193, -0.61170807, -0.58926224,  0.43149816, -0.65918265,\n",
       "         0.9570581 ,  0.29488286, -0.71423993,  0.52321461,  0.16832799],\n",
       "       [-0.27488712, -0.10474646,  0.263553  ,  0.14234891, -0.44045103,\n",
       "        -0.07599096,  0.61244875,  0.18884385, -0.27270302,  0.39899811],\n",
       "       [ 0.06230506, -0.30351293,  0.04051631,  0.37849325,  0.77173309,\n",
       "         0.17362628, -0.27135171,  0.07582211, -0.123233  , -0.316579  ],\n",
       "       [ 0.29743434,  0.76112785, -0.30450848, -0.71946445,  0.50416214,\n",
       "        -0.25727764, -0.42863911,  0.46435923,  0.13954666,  0.05051108]])"
      ]
     },
     "execution_count": 75,
     "metadata": {},
     "output_type": "execute_result"
    }
   ],
   "source": [
    "linalg.pinv2(C)   # get a pseudo-inverse of a matrix(SVD)"
   ]
  },
  {
   "cell_type": "code",
   "execution_count": 92,
   "metadata": {
    "collapsed": true
   },
   "outputs": [],
   "source": [
    "F = np.eye(3,k=1)\n",
    "G = np.mat(np.identity(2))\n",
    "C[C>0.5] = 0\n",
    "H = sparse.csr_matrix(C)  #Compressed Sparse Row matrix\n",
    "I = sparse.csc_matrix(D)  #Compressed Sparse Column matrix\n",
    "J = sparse.dok_matrix(A)  #Dictionary Of Keys matrix"
   ]
  },
  {
   "cell_type": "code",
   "execution_count": 83,
   "metadata": {},
   "outputs": [
    {
     "data": {
      "text/plain": [
       "matrix([[ 0.28339507,  0.34617399,  0.02668228,  0.20818675,  0.42233102],\n",
       "        [ 0.        ,  0.        ,  0.37356162,  0.20199785,  0.        ],\n",
       "        [ 0.        ,  0.16317694,  0.17110631,  0.28977701,  0.04517309],\n",
       "        [ 0.        ,  0.        ,  0.        ,  0.        ,  0.34535396],\n",
       "        [ 0.03460861,  0.09461791,  0.37712003,  0.        ,  0.47518717],\n",
       "        [ 0.30051106,  0.        ,  0.        ,  0.        ,  0.        ],\n",
       "        [ 0.04008184,  0.24015067,  0.        ,  0.26946178,  0.31060476],\n",
       "        [ 0.07273465,  0.15232238,  0.        ,  0.        ,  0.        ],\n",
       "        [ 0.        ,  0.        ,  0.04389175,  0.262967  ,  0.        ],\n",
       "        [ 0.15614937,  0.44027064,  0.        ,  0.3417014 ,  0.        ]])"
      ]
     },
     "execution_count": 83,
     "metadata": {},
     "output_type": "execute_result"
    }
   ],
   "source": [
    "C"
   ]
  },
  {
   "cell_type": "code",
   "execution_count": 87,
   "metadata": {},
   "outputs": [
    {
     "name": "stdout",
     "output_type": "stream",
     "text": [
      "  (0, 0)\t0.283395074131\n",
      "  (0, 1)\t0.346173986584\n",
      "  (0, 2)\t0.0266822756729\n",
      "  (0, 3)\t0.208186753931\n",
      "  (0, 4)\t0.422331021715\n",
      "  (1, 2)\t0.373561621136\n",
      "  (1, 3)\t0.201997845769\n",
      "  (2, 1)\t0.163176941191\n",
      "  (2, 2)\t0.171106310086\n",
      "  (2, 3)\t0.289777009523\n",
      "  (2, 4)\t0.0451730890218\n",
      "  (3, 4)\t0.345353963693\n",
      "  (4, 0)\t0.0346086085736\n",
      "  (4, 1)\t0.094617911429\n",
      "  (4, 2)\t0.377120029362\n",
      "  (4, 4)\t0.475187172233\n",
      "  (5, 0)\t0.300511062384\n",
      "  (6, 0)\t0.0400818379579\n",
      "  (6, 1)\t0.240150666216\n",
      "  (6, 3)\t0.269461778833\n",
      "  (6, 4)\t0.310604763705\n",
      "  (7, 0)\t0.0727346530749\n",
      "  (7, 1)\t0.152322376415\n",
      "  (8, 2)\t0.043891745272\n",
      "  (8, 3)\t0.262966996954\n",
      "  (9, 0)\t0.156149365191\n",
      "  (9, 1)\t0.440270636793\n",
      "  (9, 3)\t0.341701395762\n"
     ]
    }
   ],
   "source": [
    "print H"
   ]
  },
  {
   "cell_type": "code",
   "execution_count": 89,
   "metadata": {},
   "outputs": [
    {
     "data": {
      "text/plain": [
       "matrix([[ 0.28339507,  0.34617399,  0.02668228,  0.20818675,  0.42233102],\n",
       "        [ 0.        ,  0.        ,  0.37356162,  0.20199785,  0.        ],\n",
       "        [ 0.        ,  0.16317694,  0.17110631,  0.28977701,  0.04517309],\n",
       "        [ 0.        ,  0.        ,  0.        ,  0.        ,  0.34535396],\n",
       "        [ 0.03460861,  0.09461791,  0.37712003,  0.        ,  0.47518717],\n",
       "        [ 0.30051106,  0.        ,  0.        ,  0.        ,  0.        ],\n",
       "        [ 0.04008184,  0.24015067,  0.        ,  0.26946178,  0.31060476],\n",
       "        [ 0.07273465,  0.15232238,  0.        ,  0.        ,  0.        ],\n",
       "        [ 0.        ,  0.        ,  0.04389175,  0.262967  ,  0.        ],\n",
       "        [ 0.15614937,  0.44027064,  0.        ,  0.3417014 ,  0.        ]])"
      ]
     },
     "execution_count": 89,
     "metadata": {},
     "output_type": "execute_result"
    }
   ],
   "source": [
    "sparse.csr_matrix.todense(H)"
   ]
  },
  {
   "cell_type": "code",
   "execution_count": 102,
   "metadata": {},
   "outputs": [
    {
     "data": {
      "text/plain": [
       "array([[ 0.,  1.,  0.],\n",
       "       [ 0.,  0.,  1.],\n",
       "       [ 0.,  0.,  0.]])"
      ]
     },
     "execution_count": 102,
     "metadata": {},
     "output_type": "execute_result"
    }
   ],
   "source": [
    "sparse.isspmatrix(F)  # Identify sparse matrix"
   ]
  },
  {
   "cell_type": "code",
   "execution_count": 108,
   "metadata": {},
   "outputs": [
    {
     "data": {
      "text/plain": [
       "9.2736184954957039"
      ]
     },
     "execution_count": 108,
     "metadata": {},
     "output_type": "execute_result"
    }
   ],
   "source": [
    "sparse.linalg.inv(I) # INVERSE\n",
    "sparse.linalg.norm(I) # NORM\n",
    "#sparse.linalg.spsolve(H,I) # solver for sparse matrices"
   ]
  },
  {
   "cell_type": "code",
   "execution_count": 110,
   "metadata": {},
   "outputs": [
    {
     "name": "stdout",
     "output_type": "stream",
     "text": [
      "  (0, 0)\t3\n",
      "  (1, 0)\t5\n",
      "  (0, 1)\t4\n",
      "  (1, 1)\t6\n"
     ]
    }
   ],
   "source": [
    "sparse.linalg.expm(I) # sparse matrix exponetial\n",
    "print I"
   ]
  },
  {
   "cell_type": "code",
   "execution_count": 111,
   "metadata": {},
   "outputs": [
    {
     "name": "stdout",
     "output_type": "stream",
     "text": [
      "Help on function diagsvd in module scipy.linalg.decomp_svd:\n",
      "\n",
      "diagsvd(s, M, N)\n",
      "    Construct the sigma matrix in SVD from singular values and size M, N.\n",
      "    \n",
      "    Parameters\n",
      "    ----------\n",
      "    s : (M,) or (N,) array_like\n",
      "        Singular values\n",
      "    M : int\n",
      "        Size of the matrix whose singular values are `s`.\n",
      "    N : int\n",
      "        Size of the matrix whose singular values are `s`.\n",
      "    \n",
      "    Returns\n",
      "    -------\n",
      "    S : (M, N) ndarray\n",
      "        The S-matrix in the singular value decomposition\n",
      "\n"
     ]
    }
   ],
   "source": [
    "help(scipy.linalg.diagsvd)  # ask for help"
   ]
  },
  {
   "cell_type": "code",
   "execution_count": 115,
   "metadata": {},
   "outputs": [
    {
     "name": "stdout",
     "output_type": "stream",
     "text": [
      "=====================================\n",
      "Sparse matrices (:mod:`scipy.sparse`)\n",
      "=====================================\n",
      "\n",
      ".. currentmodule:: scipy.sparse\n",
      "\n",
      "SciPy 2-D sparse matrix package for numeric data.\n",
      "\n",
      "Contents\n",
      "========\n",
      "\n",
      "Sparse matrix classes\n",
      "---------------------\n",
      "\n",
      ".. autosummary::\n",
      "   :toctree: generated/\n",
      "\n",
      "   bsr_matrix - Block Sparse Row matrix\n",
      "   coo_matrix - A sparse matrix in COOrdinate format\n",
      "   csc_matrix - Compressed Sparse Column matrix\n",
      "   csr_matrix - Compressed Sparse Row matrix\n",
      "   dia_matrix - Sparse matrix with DIAgonal storage\n",
      "   dok_matrix - Dictionary Of Keys based sparse matrix\n",
      "   lil_matrix - Row-based linked list sparse matrix\n",
      "   spmatrix - Sparse matrix base class\n",
      "\n",
      "Functions\n",
      "---------\n",
      "\n",
      "Building sparse matrices:\n",
      "\n",
      ".. autosummary::\n",
      "   :toctree: generated/\n",
      "\n",
      "   eye - Sparse MxN matrix whose k-th diagonal is all ones\n",
      "   identity - Identity matrix in sparse format\n",
      "   kron - kronecker product of two sparse matrices\n",
      "   kronsum - kronecker sum of sparse matrices\n",
      "   diags - Return a sparse matrix from diagonals\n",
      "   spdiags - Return a sparse matrix from diagonals\n",
      "   block_diag - Build a block diagonal sparse matrix\n",
      "   tril - Lower triangular portion of a matrix in sparse format\n",
      "   triu - Upper triangular portion of a matrix in sparse format\n",
      "   bmat - Build a sparse matrix from sparse sub-blocks\n",
      "   hstack - Stack sparse matrices horizontally (column wise)\n",
      "   vstack - Stack sparse matrices vertically (row wise)\n",
      "   rand - Random values in a given shape\n",
      "   random - Random values in a given shape\n",
      "\n",
      "Save and load sparse matrices:\n",
      "\n",
      ".. autosummary::\n",
      "   :toctree: generated/\n",
      "\n",
      "   save_npz - Save a sparse matrix to a file using ``.npz`` format.\n",
      "   load_npz - Load a sparse matrix from a file using ``.npz`` format.\n",
      "\n",
      "Sparse matrix tools:\n",
      "\n",
      ".. autosummary::\n",
      "   :toctree: generated/\n",
      "\n",
      "   find\n",
      "\n",
      "Identifying sparse matrices:\n",
      "\n",
      ".. autosummary::\n",
      "   :toctree: generated/\n",
      "\n",
      "   issparse\n",
      "   isspmatrix\n",
      "   isspmatrix_csc\n",
      "   isspmatrix_csr\n",
      "   isspmatrix_bsr\n",
      "   isspmatrix_lil\n",
      "   isspmatrix_dok\n",
      "   isspmatrix_coo\n",
      "   isspmatrix_dia\n",
      "\n",
      "Submodules\n",
      "----------\n",
      "\n",
      ".. autosummary::\n",
      "   :toctree: generated/\n",
      "\n",
      "   csgraph - Compressed sparse graph routines\n",
      "   linalg - sparse linear algebra routines\n",
      "\n",
      "Exceptions\n",
      "----------\n",
      "\n",
      ".. autosummary::\n",
      "   :toctree: generated/\n",
      "\n",
      "   SparseEfficiencyWarning\n",
      "   SparseWarning\n",
      "\n",
      "\n",
      "Usage information\n",
      "=================\n",
      "\n",
      "There are seven available sparse matrix types:\n",
      "\n",
      "    1. csc_matrix: Compressed Sparse Column format\n",
      "    2. csr_matrix: Compressed Sparse Row format\n",
      "    3. bsr_matrix: Block Sparse Row format\n",
      "    4. lil_matrix: List of Lists format\n",
      "    5. dok_matrix: Dictionary of Keys format\n",
      "    6. coo_matrix: COOrdinate format (aka IJV, triplet format)\n",
      "    7. dia_matrix: DIAgonal format\n",
      "\n",
      "To construct a matrix efficiently, use either dok_matrix or lil_matrix.\n",
      "The lil_matrix class supports basic slicing and fancy indexing with a\n",
      "similar syntax to NumPy arrays. As illustrated below, the COO format\n",
      "may also be used to efficiently construct matrices. Despite their\n",
      "similarity to NumPy arrays, it is **strongly discouraged** to use NumPy\n",
      "functions directly on these matrices because NumPy may not properly convert\n",
      "them for computations, leading to unexpected (and incorrect) results. If you\n",
      "do want to apply a NumPy function to these matrices, first check if SciPy has\n",
      "its own implementation for the given sparse matrix class, or **convert the\n",
      "sparse matrix to a NumPy array** (e.g. using the `toarray()` method of the\n",
      "class) first before applying the method.\n",
      "\n",
      "To perform manipulations such as multiplication or inversion, first\n",
      "convert the matrix to either CSC or CSR format. The lil_matrix format is\n",
      "row-based, so conversion to CSR is efficient, whereas conversion to CSC\n",
      "is less so.\n",
      "\n",
      "All conversions among the CSR, CSC, and COO formats are efficient,\n",
      "linear-time operations.\n",
      "\n",
      "Matrix vector product\n",
      "---------------------\n",
      "To do a vector product between a sparse matrix and a vector simply use\n",
      "the matrix `dot` method, as described in its docstring:\n",
      "\n",
      ">>> import numpy as np\n",
      ">>> from scipy.sparse import csr_matrix\n",
      ">>> A = csr_matrix([[1, 2, 0], [0, 0, 3], [4, 0, 5]])\n",
      ">>> v = np.array([1, 0, -1])\n",
      ">>> A.dot(v)\n",
      "array([ 1, -3, -1], dtype=int64)\n",
      "\n",
      ".. warning:: As of NumPy 1.7, `np.dot` is not aware of sparse matrices,\n",
      "  therefore using it will result on unexpected results or errors.\n",
      "  The corresponding dense array should be obtained first instead:\n",
      "\n",
      "  >>> np.dot(A.toarray(), v)\n",
      "  array([ 1, -3, -1], dtype=int64)\n",
      "\n",
      "  but then all the performance advantages would be lost.\n",
      "\n",
      "The CSR format is specially suitable for fast matrix vector products.\n",
      "\n",
      "Example 1\n",
      "---------\n",
      "Construct a 1000x1000 lil_matrix and add some values to it:\n",
      "\n",
      ">>> from scipy.sparse import lil_matrix\n",
      ">>> from scipy.sparse.linalg import spsolve\n",
      ">>> from numpy.linalg import solve, norm\n",
      ">>> from numpy.random import rand\n",
      "\n",
      ">>> A = lil_matrix((1000, 1000))\n",
      ">>> A[0, :100] = rand(100)\n",
      ">>> A[1, 100:200] = A[0, :100]\n",
      ">>> A.setdiag(rand(1000))\n",
      "\n",
      "Now convert it to CSR format and solve A x = b for x:\n",
      "\n",
      ">>> A = A.tocsr()\n",
      ">>> b = rand(1000)\n",
      ">>> x = spsolve(A, b)\n",
      "\n",
      "Convert it to a dense matrix and solve, and check that the result\n",
      "is the same:\n",
      "\n",
      ">>> x_ = solve(A.toarray(), b)\n",
      "\n",
      "Now we can compute norm of the error with:\n",
      "\n",
      ">>> err = norm(x-x_)\n",
      ">>> err < 1e-10\n",
      "True\n",
      "\n",
      "It should be small :)\n",
      "\n",
      "\n",
      "Example 2\n",
      "---------\n",
      "\n",
      "Construct a matrix in COO format:\n",
      "\n",
      ">>> from scipy import sparse\n",
      ">>> from numpy import array\n",
      ">>> I = array([0,3,1,0])\n",
      ">>> J = array([0,3,1,2])\n",
      ">>> V = array([4,5,7,9])\n",
      ">>> A = sparse.coo_matrix((V,(I,J)),shape=(4,4))\n",
      "\n",
      "Notice that the indices do not need to be sorted.\n",
      "\n",
      "Duplicate (i,j) entries are summed when converting to CSR or CSC.\n",
      "\n",
      ">>> I = array([0,0,1,3,1,0,0])\n",
      ">>> J = array([0,2,1,3,1,0,0])\n",
      ">>> V = array([1,1,1,1,1,1,1])\n",
      ">>> B = sparse.coo_matrix((V,(I,J)),shape=(4,4)).tocsr()\n",
      "\n",
      "This is useful for constructing finite-element stiffness and mass matrices.\n",
      "\n",
      "Further Details\n",
      "---------------\n",
      "\n",
      "CSR column indices are not necessarily sorted.  Likewise for CSC row\n",
      "indices.  Use the .sorted_indices() and .sort_indices() methods when\n",
      "sorted indices are required (e.g. when passing data to other libraries).\n"
     ]
    }
   ],
   "source": [
    "np.info(scipy.sparse) # ask for help"
   ]
  },
  {
   "cell_type": "code",
   "execution_count": 116,
   "metadata": {},
   "outputs": [
    {
     "data": {
      "text/plain": [
       "matrix([[ 3.48639583,  4.31589636],\n",
       "        [ 5.66986564,  6.27837246]])"
      ]
     },
     "execution_count": 116,
     "metadata": {},
     "output_type": "execute_result"
    }
   ],
   "source": [
    "np.add(A,D)"
   ]
  },
  {
   "cell_type": "code",
   "execution_count": 117,
   "metadata": {},
   "outputs": [
    {
     "data": {
      "text/plain": [
       "matrix([[ 0.16213194,  0.07897409],\n",
       "        [ 0.13397313,  0.04639541]])"
      ]
     },
     "execution_count": 117,
     "metadata": {},
     "output_type": "execute_result"
    }
   ],
   "source": [
    "np.divide(A,D)"
   ]
  },
  {
   "cell_type": "code",
   "execution_count": 120,
   "metadata": {},
   "outputs": [
    {
     "data": {
      "text/plain": [
       "matrix([[ 3.03866929,  3.84096149],\n",
       "        [ 3.40145924,  4.34969734]])"
      ]
     },
     "execution_count": 120,
     "metadata": {},
     "output_type": "execute_result"
    }
   ],
   "source": [
    "A * D"
   ]
  },
  {
   "cell_type": "code",
   "execution_count": 123,
   "metadata": {},
   "outputs": [
    {
     "data": {
      "text/plain": [
       "matrix([[ 1.45918749,  1.26358544],\n",
       "        [ 3.34932821,  1.67023477]])"
      ]
     },
     "execution_count": 123,
     "metadata": {},
     "output_type": "execute_result"
    }
   ],
   "source": [
    "np.multiply(A,D)"
   ]
  },
  {
   "cell_type": "code",
   "execution_count": 125,
   "metadata": {},
   "outputs": [
    {
     "data": {
      "text/plain": [
       "matrix([[ 3.03866929,  3.84096149],\n",
       "        [ 3.40145924,  4.34969734]])"
      ]
     },
     "execution_count": 125,
     "metadata": {},
     "output_type": "execute_result"
    }
   ],
   "source": [
    " np.dot(A,D) # DOT RODUCT"
   ]
  },
  {
   "cell_type": "code",
   "execution_count": 129,
   "metadata": {},
   "outputs": [
    {
     "data": {
      "text/plain": [
       "matrix([[ 1.45918749]])"
      ]
     },
     "execution_count": 129,
     "metadata": {},
     "output_type": "execute_result"
    }
   ],
   "source": [
    "np.vdot(A,D)  # vector dot product"
   ]
  },
  {
   "cell_type": "code",
   "execution_count": 132,
   "metadata": {},
   "outputs": [
    {
     "data": {
      "text/plain": [
       "matrix([[ 2.72277293,  4.32735732],\n",
       "        [ 3.12308678,  5.01956299]])"
      ]
     },
     "execution_count": 132,
     "metadata": {},
     "output_type": "execute_result"
    }
   ],
   "source": [
    "np.inner(A,D)  # inner product"
   ]
  },
  {
   "cell_type": "code",
   "execution_count": 131,
   "metadata": {},
   "outputs": [
    {
     "data": {
      "text/plain": [
       "array([[ 1.45918749,  1.94558333,  2.43197916,  2.91837499],\n",
       "       [ 0.94768908,  1.26358544,  1.5794818 ,  1.89537816],\n",
       "       [ 2.00959693,  2.67946257,  3.34932821,  4.01919386],\n",
       "       [ 0.83511739,  1.11348985,  1.39186231,  1.67023477]])"
      ]
     },
     "execution_count": 131,
     "metadata": {},
     "output_type": "execute_result"
    }
   ],
   "source": [
    "np.outer(A,D) # outer product"
   ]
  },
  {
   "cell_type": "code",
   "execution_count": 128,
   "metadata": {},
   "outputs": [
    {
     "data": {
      "text/plain": [
       "array(7.742335920836613)"
      ]
     },
     "execution_count": 128,
     "metadata": {},
     "output_type": "execute_result"
    }
   ],
   "source": [
    "np.tensordot(A,D)  #tensor dot product"
   ]
  },
  {
   "cell_type": "code",
   "execution_count": 134,
   "metadata": {},
   "outputs": [
    {
     "data": {
      "text/plain": [
       "matrix([[ 1.45918749,  1.94558333,  0.94768908,  1.26358544],\n",
       "        [ 2.43197916,  2.91837499,  1.5794818 ,  1.89537816],\n",
       "        [ 2.00959693,  2.67946257,  0.83511739,  1.11348985],\n",
       "        [ 3.34932821,  4.01919386,  1.39186231,  1.67023477]])"
      ]
     },
     "execution_count": 134,
     "metadata": {},
     "output_type": "execute_result"
    }
   ],
   "source": [
    "np.kron(A,D)  #kronecker product"
   ]
  },
  {
   "cell_type": "code",
   "execution_count": 135,
   "metadata": {},
   "outputs": [
    {
     "data": {
      "text/plain": [
       "array([[ 1.79000543,  0.48039005],\n",
       "       [ 1.01867838,  1.47366004]])"
      ]
     },
     "execution_count": 135,
     "metadata": {},
     "output_type": "execute_result"
    }
   ],
   "source": [
    "linalg.expm(A)"
   ]
  },
  {
   "cell_type": "code",
   "execution_count": 136,
   "metadata": {},
   "outputs": [
    {
     "name": "stderr",
     "output_type": "stream",
     "text": [
      "/home/hao/anaconda2/lib/python2.7/site-packages/ipykernel_launcher.py:1: DeprecationWarning: `expm2` is deprecated, use `expm` instead!\n",
      "  \"\"\"Entry point for launching an IPython kernel.\n"
     ]
    },
    {
     "data": {
      "text/plain": [
       "array([[ 1.79000543,  0.48039005],\n",
       "       [ 1.01867838,  1.47366004]])"
      ]
     },
     "execution_count": 136,
     "metadata": {},
     "output_type": "execute_result"
    }
   ],
   "source": [
    "linalg.expm2(A)"
   ]
  },
  {
   "cell_type": "code",
   "execution_count": 137,
   "metadata": {},
   "outputs": [
    {
     "name": "stderr",
     "output_type": "stream",
     "text": [
      "/home/hao/anaconda2/lib/python2.7/site-packages/ipykernel_launcher.py:1: DeprecationWarning: `expm3` is deprecated, use `expm` instead!\n",
      "  \"\"\"Entry point for launching an IPython kernel.\n"
     ]
    },
    {
     "data": {
      "text/plain": [
       "array([[ 1.79000543,  0.48039005],\n",
       "       [ 1.01867838,  1.47366004]])"
      ]
     },
     "execution_count": 137,
     "metadata": {},
     "output_type": "execute_result"
    }
   ],
   "source": [
    "linalg.expm3(A)"
   ]
  },
  {
   "cell_type": "code",
   "execution_count": 138,
   "metadata": {},
   "outputs": [
    {
     "data": {
      "text/plain": [
       "array([[-1.03807723+1.22437175j,  0.75642967-1.05213432j],\n",
       "       [ 1.60402687-2.23107551j, -1.53619962+1.9172209j ]])"
      ]
     },
     "execution_count": 138,
     "metadata": {},
     "output_type": "execute_result"
    }
   ],
   "source": [
    "linalg.logm(A)"
   ]
  },
  {
   "cell_type": "code",
   "execution_count": 142,
   "metadata": {},
   "outputs": [
    {
     "data": {
      "text/plain": [
       "array([[ 0.66545724,  0.41429226],\n",
       "       [ 0.87851646,  0.39263843]])"
      ]
     },
     "execution_count": 142,
     "metadata": {},
     "output_type": "execute_result"
    }
   ],
   "source": [
    "linalg.sinm(A)\n",
    "linalg.cosm(A)\n",
    "linalg.tanm(A)"
   ]
  },
  {
   "cell_type": "code",
   "execution_count": 141,
   "metadata": {},
   "outputs": [
    {
     "data": {
      "text/plain": [
       "array([[ 0.38832637,  0.26194813],\n",
       "       [ 0.55546715,  0.21582887]])"
      ]
     },
     "execution_count": 141,
     "metadata": {},
     "output_type": "execute_result"
    }
   ],
   "source": [
    "linalg.sinhm(A)\n",
    "linalg.coshm(A)\n",
    "linalg.tanhm(A)"
   ]
  },
  {
   "cell_type": "code",
   "execution_count": 148,
   "metadata": {},
   "outputs": [
    {
     "data": {
      "text/plain": [
       "array([[ 0.22054074,  0.66980951],\n",
       "       [ 1.42034678, -0.22054074]])"
      ]
     },
     "execution_count": 148,
     "metadata": {},
     "output_type": "execute_result"
    }
   ],
   "source": [
    "linalg.signm(A)"
   ]
  },
  {
   "cell_type": "code",
   "execution_count": 147,
   "metadata": {},
   "outputs": [
    {
     "data": {
      "text/plain": [
       "array([[ 0.56396555+0.11642226j,  0.30949355-0.10004466j],\n",
       "       [ 0.65628834-0.21214705j,  0.36015854+0.18230344j]])"
      ]
     },
     "execution_count": 147,
     "metadata": {},
     "output_type": "execute_result"
    }
   ],
   "source": [
    "linalg.sqrtm(A)"
   ]
  },
  {
   "cell_type": "code",
   "execution_count": 149,
   "metadata": {},
   "outputs": [
    {
     "data": {
      "text/plain": [
       "array([[ 0.44818902,  0.24158752],\n",
       "       [ 0.512292  ,  0.28909935]])"
      ]
     },
     "execution_count": 149,
     "metadata": {},
     "output_type": "execute_result"
    }
   ],
   "source": [
    "linalg.funm(A, lambda x: x*x)"
   ]
  },
  {
   "cell_type": "code",
   "execution_count": 150,
   "metadata": {},
   "outputs": [
    {
     "data": {
      "text/plain": [
       "array([ 0.85400534+0.j, -0.08923705+0.j])"
      ]
     },
     "execution_count": 150,
     "metadata": {},
     "output_type": "execute_result"
    }
   ],
   "source": [
    "# Decompositions\n",
    "# Eigenvalues and eigenvevtors (valeur propre)\n",
    "la, v = linalg.eig(A)\n",
    "l1,l2 = la\n",
    "v[:,0]\n",
    "v[:,1]\n",
    "linalg.eigvals(A)"
   ]
  },
  {
   "cell_type": "code",
   "execution_count": 162,
   "metadata": {
    "collapsed": true
   },
   "outputs": [],
   "source": [
    "#Singular value decompositions\n",
    "U, s, Vh = linalg.svd(B)\n",
    "M, N = B.shape\n",
    "Sig = linalg.diagsvd(s, M, N)"
   ]
  },
  {
   "cell_type": "code",
   "execution_count": 170,
   "metadata": {
    "collapsed": true
   },
   "outputs": [],
   "source": [
    "U, S, V = linalg.svd(C)"
   ]
  },
  {
   "cell_type": "code",
   "execution_count": 180,
   "metadata": {},
   "outputs": [
    {
     "data": {
      "text/plain": [
       "(10, 5)"
      ]
     },
     "execution_count": 180,
     "metadata": {},
     "output_type": "execute_result"
    }
   ],
   "source": [
    "C.shape"
   ]
  },
  {
   "cell_type": "code",
   "execution_count": 185,
   "metadata": {},
   "outputs": [
    {
     "data": {
      "text/plain": [
       "0.9999999999999997"
      ]
     },
     "execution_count": 185,
     "metadata": {},
     "output_type": "execute_result"
    }
   ],
   "source": [
    "linalg.det(V)"
   ]
  },
  {
   "cell_type": "code",
   "execution_count": 175,
   "metadata": {},
   "outputs": [
    {
     "data": {
      "text/plain": [
       "(5,)"
      ]
     },
     "execution_count": 175,
     "metadata": {},
     "output_type": "execute_result"
    }
   ],
   "source": [
    "S.shape"
   ]
  },
  {
   "cell_type": "code",
   "execution_count": 179,
   "metadata": {},
   "outputs": [
    {
     "data": {
      "text/plain": [
       "(5, 5)"
      ]
     },
     "execution_count": 179,
     "metadata": {},
     "output_type": "execute_result"
    }
   ],
   "source": [
    "V.shape"
   ]
  },
  {
   "cell_type": "code",
   "execution_count": 153,
   "metadata": {
    "collapsed": true
   },
   "outputs": [],
   "source": [
    "# LU decomposition\n",
    "P, L, U = linalg.lu(C)"
   ]
  },
  {
   "cell_type": "code",
   "execution_count": 160,
   "metadata": {},
   "outputs": [
    {
     "data": {
      "text/plain": [
       "(array([[ 0.00182824,  0.56769341],\n",
       "        [-0.0691907 ,  0.18188402],\n",
       "        [ 0.17840754,  0.27513252],\n",
       "        [-0.36352131,  0.18900065],\n",
       "        [-0.65389926,  0.40796466],\n",
       "        [ 0.08053464,  0.0727444 ],\n",
       "        [ 0.04710463,  0.41638091],\n",
       "        [ 0.1196975 ,  0.09203847],\n",
       "        [ 0.17416105,  0.12732829],\n",
       "        [ 0.5918478 ,  0.40427677]]),\n",
       " array([ 0.6262391,  1.081955 ]),\n",
       " array([[ 0.16782723,  0.41197097, -0.37401981,  0.47718096, -0.65918241],\n",
       "        [ 0.26190771,  0.5286926 ,  0.26767237,  0.47920415,  0.5921177 ]]))"
      ]
     },
     "execution_count": 160,
     "metadata": {},
     "output_type": "execute_result"
    }
   ],
   "source": [
    "#Sparse matrix decompositions\n",
    "la, v = sparse.linalg.eigs(F, 1)\n",
    "sparse.linalg.svds(H, 2)"
   ]
  },
  {
   "cell_type": "code",
   "execution_count": null,
   "metadata": {
    "collapsed": true
   },
   "outputs": [],
   "source": [
    "import tensorflow"
   ]
  }
 ],
 "metadata": {
  "kernelspec": {
   "display_name": "Python 2",
   "language": "python",
   "name": "python2"
  },
  "language_info": {
   "codemirror_mode": {
    "name": "ipython",
    "version": 2
   },
   "file_extension": ".py",
   "mimetype": "text/x-python",
   "name": "python",
   "nbconvert_exporter": "python",
   "pygments_lexer": "ipython2",
   "version": "2.7.13"
  }
 },
 "nbformat": 4,
 "nbformat_minor": 2
}
